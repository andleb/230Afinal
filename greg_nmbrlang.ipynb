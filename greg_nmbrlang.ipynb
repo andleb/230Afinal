{
 "cells": [
  {
   "cell_type": "code",
   "execution_count": 1,
   "id": "83c4a6a0",
   "metadata": {},
   "outputs": [
    {
     "name": "stderr",
     "output_type": "stream",
     "text": [
      "/opt/homebrew/lib/python3.9/site-packages/geopandas/_compat.py:111: UserWarning: The Shapely GEOS version (3.10.2-CAPI-1.16.0) is incompatible with the GEOS version PyGEOS was compiled with (3.10.1-CAPI-1.16.0). Conversions between both will be slow.\n",
      "  warnings.warn(\n"
     ]
    }
   ],
   "source": [
    "import pandas as pd\n",
    "import numpy as np\n",
    "import geopandas as gpd\n",
    "\n",
    "import matplotlib.pyplot as plt\n",
    "import seaborn as sns"
   ]
  },
  {
   "cell_type": "code",
   "execution_count": 2,
   "id": "adaaa1a8",
   "metadata": {},
   "outputs": [
    {
     "data": {
      "text/html": [
       "<div>\n",
       "<style scoped>\n",
       "    .dataframe tbody tr th:only-of-type {\n",
       "        vertical-align: middle;\n",
       "    }\n",
       "\n",
       "    .dataframe tbody tr th {\n",
       "        vertical-align: top;\n",
       "    }\n",
       "\n",
       "    .dataframe thead th {\n",
       "        text-align: right;\n",
       "    }\n",
       "</style>\n",
       "<table border=\"1\" class=\"dataframe\">\n",
       "  <thead>\n",
       "    <tr style=\"text-align: right;\">\n",
       "      <th></th>\n",
       "      <th>uniq_cnt25</th>\n",
       "      <th>point5_id</th>\n",
       "      <th>pop95</th>\n",
       "      <th>maize</th>\n",
       "      <th>pasture</th>\n",
       "      <th>suit_new</th>\n",
       "      <th>sorghum</th>\n",
       "      <th>allcrops</th>\n",
       "      <th>geometry</th>\n",
       "    </tr>\n",
       "  </thead>\n",
       "  <tbody>\n",
       "    <tr>\n",
       "      <th>0</th>\n",
       "      <td>39</td>\n",
       "      <td>247867.0</td>\n",
       "      <td>0.0002</td>\n",
       "      <td>0.0</td>\n",
       "      <td>0.0</td>\n",
       "      <td>0.0</td>\n",
       "      <td>0.0</td>\n",
       "      <td>0.0</td>\n",
       "      <td>POLYGON ((-86.00000 82.00000, -86.50000 82.000...</td>\n",
       "    </tr>\n",
       "    <tr>\n",
       "      <th>1</th>\n",
       "      <td>40</td>\n",
       "      <td>247868.0</td>\n",
       "      <td>0.0002</td>\n",
       "      <td>0.0</td>\n",
       "      <td>0.0</td>\n",
       "      <td>0.0</td>\n",
       "      <td>0.0</td>\n",
       "      <td>0.0</td>\n",
       "      <td>POLYGON ((-85.50000 82.00000, -86.00000 82.000...</td>\n",
       "    </tr>\n",
       "    <tr>\n",
       "      <th>2</th>\n",
       "      <td>40</td>\n",
       "      <td>247869.0</td>\n",
       "      <td>0.0003</td>\n",
       "      <td>0.0</td>\n",
       "      <td>0.0</td>\n",
       "      <td>0.0</td>\n",
       "      <td>0.0</td>\n",
       "      <td>0.0</td>\n",
       "      <td>POLYGON ((-85.00000 82.00000, -85.50000 82.000...</td>\n",
       "    </tr>\n",
       "    <tr>\n",
       "      <th>3</th>\n",
       "      <td>40</td>\n",
       "      <td>247870.0</td>\n",
       "      <td>0.0003</td>\n",
       "      <td>0.0</td>\n",
       "      <td>0.0</td>\n",
       "      <td>0.0</td>\n",
       "      <td>0.0</td>\n",
       "      <td>0.0</td>\n",
       "      <td>POLYGON ((-84.50000 82.00000, -85.00000 82.000...</td>\n",
       "    </tr>\n",
       "    <tr>\n",
       "      <th>4</th>\n",
       "      <td>40</td>\n",
       "      <td>247871.0</td>\n",
       "      <td>0.0003</td>\n",
       "      <td>0.0</td>\n",
       "      <td>0.0</td>\n",
       "      <td>0.0</td>\n",
       "      <td>0.0</td>\n",
       "      <td>0.0</td>\n",
       "      <td>POLYGON ((-84.00000 82.00000, -84.50000 82.000...</td>\n",
       "    </tr>\n",
       "  </tbody>\n",
       "</table>\n",
       "</div>"
      ],
      "text/plain": [
       "   uniq_cnt25  point5_id   pop95  maize  pasture  suit_new  sorghum  allcrops  \\\n",
       "0          39   247867.0  0.0002    0.0      0.0       0.0      0.0       0.0   \n",
       "1          40   247868.0  0.0002    0.0      0.0       0.0      0.0       0.0   \n",
       "2          40   247869.0  0.0003    0.0      0.0       0.0      0.0       0.0   \n",
       "3          40   247870.0  0.0003    0.0      0.0       0.0      0.0       0.0   \n",
       "4          40   247871.0  0.0003    0.0      0.0       0.0      0.0       0.0   \n",
       "\n",
       "                                            geometry  \n",
       "0  POLYGON ((-86.00000 82.00000, -86.50000 82.000...  \n",
       "1  POLYGON ((-85.50000 82.00000, -86.00000 82.000...  \n",
       "2  POLYGON ((-85.00000 82.00000, -85.50000 82.000...  \n",
       "3  POLYGON ((-84.50000 82.00000, -85.00000 82.000...  \n",
       "4  POLYGON ((-84.00000 82.00000, -84.50000 82.000...  "
      ]
     },
     "execution_count": 2,
     "metadata": {},
     "output_type": "execute_result"
    }
   ],
   "source": [
    "virtual = gpd.read_file('data_raw/virtual_country')\n",
    "virtual.head()"
   ]
  },
  {
   "cell_type": "code",
   "execution_count": 3,
   "id": "845999f1",
   "metadata": {},
   "outputs": [
    {
     "data": {
      "text/html": [
       "<div>\n",
       "<style scoped>\n",
       "    .dataframe tbody tr th:only-of-type {\n",
       "        vertical-align: middle;\n",
       "    }\n",
       "\n",
       "    .dataframe tbody tr th {\n",
       "        vertical-align: top;\n",
       "    }\n",
       "\n",
       "    .dataframe thead th {\n",
       "        text-align: right;\n",
       "    }\n",
       "</style>\n",
       "<table border=\"1\" class=\"dataframe\">\n",
       "  <thead>\n",
       "    <tr style=\"text-align: right;\">\n",
       "      <th></th>\n",
       "      <th>FIPS_CNTRY</th>\n",
       "      <th>GROUP1</th>\n",
       "      <th>GROUP2</th>\n",
       "      <th>GROUP3</th>\n",
       "      <th>G1ID</th>\n",
       "      <th>G2ID</th>\n",
       "      <th>G3ID</th>\n",
       "      <th>G1SHORTNAM</th>\n",
       "      <th>G2SHORTNAM</th>\n",
       "      <th>G3SHORTNAM</th>\n",
       "      <th>G1LONGNAM</th>\n",
       "      <th>G2LONGNAM</th>\n",
       "      <th>G3LONGNAM</th>\n",
       "      <th>FeatureID</th>\n",
       "      <th>AREA</th>\n",
       "      <th>COW</th>\n",
       "      <th>geometry</th>\n",
       "    </tr>\n",
       "  </thead>\n",
       "  <tbody>\n",
       "    <tr>\n",
       "      <th>0</th>\n",
       "      <td>AA</td>\n",
       "      <td>12</td>\n",
       "      <td>0</td>\n",
       "      <td>0</td>\n",
       "      <td>312</td>\n",
       "      <td>0</td>\n",
       "      <td>0</td>\n",
       "      <td>Curaçao Islanders</td>\n",
       "      <td>None</td>\n",
       "      <td>None</td>\n",
       "      <td>Curaçao Islanders</td>\n",
       "      <td>None</td>\n",
       "      <td>None</td>\n",
       "      <td>0</td>\n",
       "      <td>2.007795e+08</td>\n",
       "      <td>0</td>\n",
       "      <td>POLYGON ((-69.88223 12.41111, -69.94695 12.436...</td>\n",
       "    </tr>\n",
       "    <tr>\n",
       "      <th>1</th>\n",
       "      <td>AC</td>\n",
       "      <td>16</td>\n",
       "      <td>0</td>\n",
       "      <td>0</td>\n",
       "      <td>354</td>\n",
       "      <td>0</td>\n",
       "      <td>0</td>\n",
       "      <td>English-speaking population of the Lesser Anti...</td>\n",
       "      <td>None</td>\n",
       "      <td>None</td>\n",
       "      <td>English-speaking population of the Lesser Anti...</td>\n",
       "      <td>None</td>\n",
       "      <td>None</td>\n",
       "      <td>1</td>\n",
       "      <td>5.398570e+08</td>\n",
       "      <td>58</td>\n",
       "      <td>MULTIPOLYGON (((-61.73889 17.54055, -61.75195 ...</td>\n",
       "    </tr>\n",
       "    <tr>\n",
       "      <th>2</th>\n",
       "      <td>AF</td>\n",
       "      <td>33</td>\n",
       "      <td>53</td>\n",
       "      <td>0</td>\n",
       "      <td>117</td>\n",
       "      <td>202</td>\n",
       "      <td>0</td>\n",
       "      <td>Baloch</td>\n",
       "      <td>Brahui</td>\n",
       "      <td>None</td>\n",
       "      <td>Baloch (Baluchis)</td>\n",
       "      <td>Brahui</td>\n",
       "      <td>None</td>\n",
       "      <td>2</td>\n",
       "      <td>1.189781e+10</td>\n",
       "      <td>700</td>\n",
       "      <td>POLYGON ((64.03937 30.02453, 64.03937 30.11267...</td>\n",
       "    </tr>\n",
       "    <tr>\n",
       "      <th>3</th>\n",
       "      <td>AF</td>\n",
       "      <td>24</td>\n",
       "      <td>34</td>\n",
       "      <td>0</td>\n",
       "      <td>898</td>\n",
       "      <td>12</td>\n",
       "      <td>0</td>\n",
       "      <td>Persians</td>\n",
       "      <td>Afghans</td>\n",
       "      <td>None</td>\n",
       "      <td>Persians</td>\n",
       "      <td>Afghans (Pushtuns, Pathans)</td>\n",
       "      <td>None</td>\n",
       "      <td>3</td>\n",
       "      <td>1.653610e+09</td>\n",
       "      <td>700</td>\n",
       "      <td>POLYGON ((61.75456 30.78628, 61.75833 30.79028...</td>\n",
       "    </tr>\n",
       "    <tr>\n",
       "      <th>4</th>\n",
       "      <td>AF</td>\n",
       "      <td>34</td>\n",
       "      <td>41</td>\n",
       "      <td>0</td>\n",
       "      <td>12</td>\n",
       "      <td>1051</td>\n",
       "      <td>0</td>\n",
       "      <td>Afghans</td>\n",
       "      <td>Tajiks</td>\n",
       "      <td>None</td>\n",
       "      <td>Afghans (Pushtuns, Pathans)</td>\n",
       "      <td>Tajiks (Tadzhiks)</td>\n",
       "      <td>None</td>\n",
       "      <td>4</td>\n",
       "      <td>3.251011e+09</td>\n",
       "      <td>700</td>\n",
       "      <td>POLYGON ((61.62285 31.39536, 61.64841 31.46713...</td>\n",
       "    </tr>\n",
       "  </tbody>\n",
       "</table>\n",
       "</div>"
      ],
      "text/plain": [
       "  FIPS_CNTRY  GROUP1  GROUP2  GROUP3  G1ID  G2ID  G3ID  \\\n",
       "0         AA      12       0       0   312     0     0   \n",
       "1         AC      16       0       0   354     0     0   \n",
       "2         AF      33      53       0   117   202     0   \n",
       "3         AF      24      34       0   898    12     0   \n",
       "4         AF      34      41       0    12  1051     0   \n",
       "\n",
       "                                          G1SHORTNAM G2SHORTNAM G3SHORTNAM  \\\n",
       "0                                  Curaçao Islanders       None       None   \n",
       "1  English-speaking population of the Lesser Anti...       None       None   \n",
       "2                                             Baloch     Brahui       None   \n",
       "3                                           Persians    Afghans       None   \n",
       "4                                            Afghans     Tajiks       None   \n",
       "\n",
       "                                           G1LONGNAM  \\\n",
       "0                                  Curaçao Islanders   \n",
       "1  English-speaking population of the Lesser Anti...   \n",
       "2                                  Baloch (Baluchis)   \n",
       "3                                           Persians   \n",
       "4                        Afghans (Pushtuns, Pathans)   \n",
       "\n",
       "                     G2LONGNAM G3LONGNAM  FeatureID          AREA  COW  \\\n",
       "0                         None      None          0  2.007795e+08    0   \n",
       "1                         None      None          1  5.398570e+08   58   \n",
       "2                       Brahui      None          2  1.189781e+10  700   \n",
       "3  Afghans (Pushtuns, Pathans)      None          3  1.653610e+09  700   \n",
       "4            Tajiks (Tadzhiks)      None          4  3.251011e+09  700   \n",
       "\n",
       "                                            geometry  \n",
       "0  POLYGON ((-69.88223 12.41111, -69.94695 12.436...  \n",
       "1  MULTIPOLYGON (((-61.73889 17.54055, -61.75195 ...  \n",
       "2  POLYGON ((64.03937 30.02453, 64.03937 30.11267...  \n",
       "3  POLYGON ((61.75456 30.78628, 61.75833 30.79028...  \n",
       "4  POLYGON ((61.62285 31.39536, 61.64841 31.46713...  "
      ]
     },
     "execution_count": 3,
     "metadata": {},
     "output_type": "execute_result"
    }
   ],
   "source": [
    "greg = gpd.read_file('greg')\n",
    "greg.head()"
   ]
  },
  {
   "cell_type": "code",
   "execution_count": 4,
   "id": "972925be",
   "metadata": {},
   "outputs": [
    {
     "data": {
      "text/plain": [
       "(<Geographic 2D CRS: EPSG:4326>\n",
       " Name: WGS 84\n",
       " Axis Info [ellipsoidal]:\n",
       " - Lat[north]: Geodetic latitude (degree)\n",
       " - Lon[east]: Geodetic longitude (degree)\n",
       " Area of Use:\n",
       " - name: World.\n",
       " - bounds: (-180.0, -90.0, 180.0, 90.0)\n",
       " Datum: World Geodetic System 1984 ensemble\n",
       " - Ellipsoid: WGS 84\n",
       " - Prime Meridian: Greenwich,\n",
       " <Geographic 2D CRS: EPSG:4326>\n",
       " Name: WGS 84\n",
       " Axis Info [ellipsoidal]:\n",
       " - Lat[north]: Geodetic latitude (degree)\n",
       " - Lon[east]: Geodetic longitude (degree)\n",
       " Area of Use:\n",
       " - name: World.\n",
       " - bounds: (-180.0, -90.0, 180.0, 90.0)\n",
       " Datum: World Geodetic System 1984 ensemble\n",
       " - Ellipsoid: WGS 84\n",
       " - Prime Meridian: Greenwich)"
      ]
     },
     "execution_count": 4,
     "metadata": {},
     "output_type": "execute_result"
    }
   ],
   "source": [
    "virtual.crs, greg.crs"
   ]
  },
  {
   "cell_type": "code",
   "execution_count": 5,
   "id": "0c519779",
   "metadata": {},
   "outputs": [
    {
     "data": {
      "text/plain": [
       "<AxesSubplot:>"
      ]
     },
     "execution_count": 5,
     "metadata": {},
     "output_type": "execute_result"
    },
    {
     "data": {
      "image/png": "[encoded data removed]",
      "text/plain": [
       "<Figure size 432x288 with 1 Axes>"
      ]
     },
     "metadata": {
      "needs_background": "light"
     },
     "output_type": "display_data"
    }
   ],
   "source": [
    "virtual.plot()"
   ]
  },
  {
   "cell_type": "code",
   "execution_count": 6,
   "id": "ed8f5057",
   "metadata": {},
   "outputs": [
    {
     "data": {
      "text/plain": [
       "<AxesSubplot:>"
      ]
     },
     "execution_count": 6,
     "metadata": {},
     "output_type": "execute_result"
    },
    {
     "data": {
      "image/png": "[encoded data removed]",
      "text/plain": [
       "<Figure size 432x288 with 1 Axes>"
      ]
     },
     "metadata": {
      "needs_background": "light"
     },
     "output_type": "display_data"
    }
   ],
   "source": [
    "greg.plot()"
   ]
  },
  {
   "cell_type": "code",
   "execution_count": 7,
   "id": "2572f94d",
   "metadata": {},
   "outputs": [
    {
     "data": {
      "text/html": [
       "<div>\n",
       "<style scoped>\n",
       "    .dataframe tbody tr th:only-of-type {\n",
       "        vertical-align: middle;\n",
       "    }\n",
       "\n",
       "    .dataframe tbody tr th {\n",
       "        vertical-align: top;\n",
       "    }\n",
       "\n",
       "    .dataframe thead th {\n",
       "        text-align: right;\n",
       "    }\n",
       "</style>\n",
       "<table border=\"1\" class=\"dataframe\">\n",
       "  <thead>\n",
       "    <tr style=\"text-align: right;\">\n",
       "      <th></th>\n",
       "      <th>SHORTNAM</th>\n",
       "      <th>geometry</th>\n",
       "    </tr>\n",
       "  </thead>\n",
       "  <tbody>\n",
       "    <tr>\n",
       "      <th>0</th>\n",
       "      <td>Abazinians</td>\n",
       "      <td>MULTIPOLYGON (((41.83519 44.08370, 41.86445 44...</td>\n",
       "    </tr>\n",
       "    <tr>\n",
       "      <th>1</th>\n",
       "      <td>Abkhaz</td>\n",
       "      <td>MULTIPOLYGON (((41.73878 42.62086, 41.71329 42...</td>\n",
       "    </tr>\n",
       "    <tr>\n",
       "      <th>2</th>\n",
       "      <td>Achaguas</td>\n",
       "      <td>MULTIPOLYGON (((-74.02123 2.16973, -73.98634 2...</td>\n",
       "    </tr>\n",
       "    <tr>\n",
       "      <th>3</th>\n",
       "      <td>Achang</td>\n",
       "      <td>POLYGON ((97.84312 24.33767, 97.84467 24.36087...</td>\n",
       "    </tr>\n",
       "    <tr>\n",
       "      <th>4</th>\n",
       "      <td>Achinese</td>\n",
       "      <td>MULTIPOLYGON (((97.81446 2.77691, 97.86672 2.7...</td>\n",
       "    </tr>\n",
       "    <tr>\n",
       "      <th>...</th>\n",
       "      <td>...</td>\n",
       "      <td>...</td>\n",
       "    </tr>\n",
       "    <tr>\n",
       "      <th>923</th>\n",
       "      <td>Zagawa</td>\n",
       "      <td>MULTIPOLYGON (((25.88538 14.53904, 25.83321 14...</td>\n",
       "    </tr>\n",
       "    <tr>\n",
       "      <th>924</th>\n",
       "      <td>Zakhchins</td>\n",
       "      <td>POLYGON ((91.54557 47.36713, 91.54557 47.43751...</td>\n",
       "    </tr>\n",
       "    <tr>\n",
       "      <th>925</th>\n",
       "      <td>Zapotecs</td>\n",
       "      <td>POLYGON ((-94.96082 16.37316, -95.03084 16.322...</td>\n",
       "    </tr>\n",
       "    <tr>\n",
       "      <th>926</th>\n",
       "      <td>Zoque</td>\n",
       "      <td>MULTIPOLYGON (((-93.18895 16.87464, -93.13737 ...</td>\n",
       "    </tr>\n",
       "    <tr>\n",
       "      <th>927</th>\n",
       "      <td>Zulus</td>\n",
       "      <td>POLYGON ((31.11778 -29.67945, 31.00972 -29.872...</td>\n",
       "    </tr>\n",
       "  </tbody>\n",
       "</table>\n",
       "<p>928 rows × 2 columns</p>\n",
       "</div>"
      ],
      "text/plain": [
       "       SHORTNAM                                           geometry\n",
       "0    Abazinians  MULTIPOLYGON (((41.83519 44.08370, 41.86445 44...\n",
       "1        Abkhaz  MULTIPOLYGON (((41.73878 42.62086, 41.71329 42...\n",
       "2      Achaguas  MULTIPOLYGON (((-74.02123 2.16973, -73.98634 2...\n",
       "3        Achang  POLYGON ((97.84312 24.33767, 97.84467 24.36087...\n",
       "4      Achinese  MULTIPOLYGON (((97.81446 2.77691, 97.86672 2.7...\n",
       "..          ...                                                ...\n",
       "923      Zagawa  MULTIPOLYGON (((25.88538 14.53904, 25.83321 14...\n",
       "924   Zakhchins  POLYGON ((91.54557 47.36713, 91.54557 47.43751...\n",
       "925    Zapotecs  POLYGON ((-94.96082 16.37316, -95.03084 16.322...\n",
       "926       Zoque  MULTIPOLYGON (((-93.18895 16.87464, -93.13737 ...\n",
       "927       Zulus  POLYGON ((31.11778 -29.67945, 31.00972 -29.872...\n",
       "\n",
       "[928 rows x 2 columns]"
      ]
     },
     "execution_count": 7,
     "metadata": {},
     "output_type": "execute_result"
    }
   ],
   "source": [
    "melted = pd.melt(greg, id_vars = ['geometry'], value_vars = ['G1SHORTNAM', 'G2SHORTNAM', 'G3SHORTNAM'], value_name = 'SHORTNAM')\n",
    "ethnicGroups = melted[melted['SHORTNAM'].notna()].drop('variable', axis = 1).dissolve(by = 'SHORTNAM', aggfunc = 'first', as_index = False)\n",
    "ethnicGroups"
   ]
  },
  {
   "cell_type": "code",
   "execution_count": 8,
   "id": "6306523c",
   "metadata": {},
   "outputs": [],
   "source": [
    "joined = gpd.sjoin(virtual, ethnicGroups, predicate = 'intersects', how = 'left')"
   ]
  },
  {
   "cell_type": "code",
   "execution_count": 9,
   "id": "483e24d0",
   "metadata": {},
   "outputs": [
    {
     "data": {
      "text/plain": [
       "<AxesSubplot:xlabel='SHORTNAM', ylabel='Count'>"
      ]
     },
     "execution_count": 9,
     "metadata": {},
     "output_type": "execute_result"
    },
    {
     "data": {
      "image/png": "[encoded data removed]",
      "text/plain": [
       "<Figure size 432x288 with 1 Axes>"
      ]
     },
     "metadata": {
      "needs_background": "light"
     },
     "output_type": "display_data"
    }
   ],
   "source": [
    "sns.histplot(x = joined.groupby('uniq_cnt25')['SHORTNAM'].nunique().sort_values())"
   ]
  },
  {
   "cell_type": "code",
   "execution_count": 10,
   "id": "2645276d",
   "metadata": {},
   "outputs": [],
   "source": [
    "joined.groupby('uniq_cnt25')['SHORTNAM'].nunique().to_csv('greg.csv')"
   ]
  },
  {
   "cell_type": "code",
   "execution_count": null,
   "id": "ed12785b",
   "metadata": {},
   "outputs": [],
   "source": []
  }
 ],
 "metadata": {
  "kernelspec": {
   "display_name": "Python 3 (ipykernel)",
   "language": "python",
   "name": "python3"
  },
  "language_info": {
   "codemirror_mode": {
    "name": "ipython",
    "version": 3
   },
   "file_extension": ".py",
   "mimetype": "text/x-python",
   "name": "python",
   "nbconvert_exporter": "python",
   "pygments_lexer": "ipython3",
   "version": "3.9.12"
  }
 },
 "nbformat": 4,
 "nbformat_minor": 5
}
