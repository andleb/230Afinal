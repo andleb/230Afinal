{
 "cells": [
  {
   "cell_type": "markdown",
   "id": "4c0843d8",
   "metadata": {},
   "source": [
    "# Appendix Part 2: GREG Database Wrangling\n",
    "\n",
    "This notebook is included separately, because it contains the code used to transform the GREG dataset into values in a suitable format to swap in for the withheld WLMS data."
   ]
  },
  {
   "cell_type": "code",
   "execution_count": 1,
   "id": "83c4a6a0",
   "metadata": {},
   "outputs": [
    {
     "name": "stderr",
     "output_type": "stream",
     "text": [
      "/opt/homebrew/lib/python3.9/site-packages/geopandas/_compat.py:111: UserWarning: The Shapely GEOS version (3.10.2-CAPI-1.16.0) is incompatible with the GEOS version PyGEOS was compiled with (3.10.1-CAPI-1.16.0). Conversions between both will be slow.\n",
      "  warnings.warn(\n"
     ]
    }
   ],
   "source": [
    "import pandas as pd\n",
    "import numpy as np\n",
    "import geopandas as gpd\n",
    "\n",
    "import matplotlib.pyplot as plt\n",
    "import seaborn as sns"
   ]
  },
  {
   "cell_type": "markdown",
   "id": "8ec7c955",
   "metadata": {},
   "source": [
    "## Import Shapefiles"
   ]
  },
  {
   "cell_type": "code",
   "execution_count": 2,
   "id": "adaaa1a8",
   "metadata": {},
   "outputs": [
    {
     "data": {
      "text/html": [
       "<div>\n",
       "<style scoped>\n",
       "    .dataframe tbody tr th:only-of-type {\n",
       "        vertical-align: middle;\n",
       "    }\n",
       "\n",
       "    .dataframe tbody tr th {\n",
       "        vertical-align: top;\n",
       "    }\n",
       "\n",
       "    .dataframe thead th {\n",
       "        text-align: right;\n",
       "    }\n",
       "</style>\n",
       "<table border=\"1\" class=\"dataframe\">\n",
       "  <thead>\n",
       "    <tr style=\"text-align: right;\">\n",
       "      <th></th>\n",
       "      <th>uniq_cnt25</th>\n",
       "      <th>point5_id</th>\n",
       "      <th>geometry</th>\n",
       "    </tr>\n",
       "  </thead>\n",
       "  <tbody>\n",
       "    <tr>\n",
       "      <th>0</th>\n",
       "      <td>39</td>\n",
       "      <td>247867.0</td>\n",
       "      <td>POLYGON ((-86.00000 82.00000, -86.50000 82.000...</td>\n",
       "    </tr>\n",
       "    <tr>\n",
       "      <th>1</th>\n",
       "      <td>40</td>\n",
       "      <td>247868.0</td>\n",
       "      <td>POLYGON ((-85.50000 82.00000, -86.00000 82.000...</td>\n",
       "    </tr>\n",
       "    <tr>\n",
       "      <th>2</th>\n",
       "      <td>40</td>\n",
       "      <td>247869.0</td>\n",
       "      <td>POLYGON ((-85.00000 82.00000, -85.50000 82.000...</td>\n",
       "    </tr>\n",
       "    <tr>\n",
       "      <th>3</th>\n",
       "      <td>40</td>\n",
       "      <td>247870.0</td>\n",
       "      <td>POLYGON ((-84.50000 82.00000, -85.00000 82.000...</td>\n",
       "    </tr>\n",
       "    <tr>\n",
       "      <th>4</th>\n",
       "      <td>40</td>\n",
       "      <td>247871.0</td>\n",
       "      <td>POLYGON ((-84.00000 82.00000, -84.50000 82.000...</td>\n",
       "    </tr>\n",
       "  </tbody>\n",
       "</table>\n",
       "</div>"
      ],
      "text/plain": [
       "   uniq_cnt25  point5_id                                           geometry\n",
       "0          39   247867.0  POLYGON ((-86.00000 82.00000, -86.50000 82.000...\n",
       "1          40   247868.0  POLYGON ((-85.50000 82.00000, -86.00000 82.000...\n",
       "2          40   247869.0  POLYGON ((-85.00000 82.00000, -85.50000 82.000...\n",
       "3          40   247870.0  POLYGON ((-84.50000 82.00000, -85.00000 82.000...\n",
       "4          40   247871.0  POLYGON ((-84.00000 82.00000, -84.50000 82.000..."
      ]
     },
     "execution_count": 2,
     "metadata": {},
     "output_type": "execute_result"
    }
   ],
   "source": [
    "virtual = gpd.read_file('data_raw/Virtual_country')\n",
    "virtual[['uniq_cnt25', 'point5_id', 'geometry']].head()"
   ]
  },
  {
   "cell_type": "code",
   "execution_count": 3,
   "id": "845999f1",
   "metadata": {},
   "outputs": [
    {
     "data": {
      "text/html": [
       "<div>\n",
       "<style scoped>\n",
       "    .dataframe tbody tr th:only-of-type {\n",
       "        vertical-align: middle;\n",
       "    }\n",
       "\n",
       "    .dataframe tbody tr th {\n",
       "        vertical-align: top;\n",
       "    }\n",
       "\n",
       "    .dataframe thead th {\n",
       "        text-align: right;\n",
       "    }\n",
       "</style>\n",
       "<table border=\"1\" class=\"dataframe\">\n",
       "  <thead>\n",
       "    <tr style=\"text-align: right;\">\n",
       "      <th></th>\n",
       "      <th>G1SHORTNAM</th>\n",
       "      <th>G2SHORTNAM</th>\n",
       "      <th>G3SHORTNAM</th>\n",
       "      <th>geometry</th>\n",
       "    </tr>\n",
       "  </thead>\n",
       "  <tbody>\n",
       "    <tr>\n",
       "      <th>0</th>\n",
       "      <td>Curaçao Islanders</td>\n",
       "      <td>None</td>\n",
       "      <td>None</td>\n",
       "      <td>POLYGON ((-69.88223 12.41111, -69.94695 12.436...</td>\n",
       "    </tr>\n",
       "    <tr>\n",
       "      <th>1</th>\n",
       "      <td>English-speaking population of the Lesser Anti...</td>\n",
       "      <td>None</td>\n",
       "      <td>None</td>\n",
       "      <td>MULTIPOLYGON (((-61.73889 17.54055, -61.75195 ...</td>\n",
       "    </tr>\n",
       "    <tr>\n",
       "      <th>2</th>\n",
       "      <td>Baloch</td>\n",
       "      <td>Brahui</td>\n",
       "      <td>None</td>\n",
       "      <td>POLYGON ((64.03937 30.02453, 64.03937 30.11267...</td>\n",
       "    </tr>\n",
       "    <tr>\n",
       "      <th>3</th>\n",
       "      <td>Persians</td>\n",
       "      <td>Afghans</td>\n",
       "      <td>None</td>\n",
       "      <td>POLYGON ((61.75456 30.78628, 61.75833 30.79028...</td>\n",
       "    </tr>\n",
       "    <tr>\n",
       "      <th>4</th>\n",
       "      <td>Afghans</td>\n",
       "      <td>Tajiks</td>\n",
       "      <td>None</td>\n",
       "      <td>POLYGON ((61.62285 31.39536, 61.64841 31.46713...</td>\n",
       "    </tr>\n",
       "  </tbody>\n",
       "</table>\n",
       "</div>"
      ],
      "text/plain": [
       "                                          G1SHORTNAM G2SHORTNAM G3SHORTNAM  \\\n",
       "0                                  Curaçao Islanders       None       None   \n",
       "1  English-speaking population of the Lesser Anti...       None       None   \n",
       "2                                             Baloch     Brahui       None   \n",
       "3                                           Persians    Afghans       None   \n",
       "4                                            Afghans     Tajiks       None   \n",
       "\n",
       "                                            geometry  \n",
       "0  POLYGON ((-69.88223 12.41111, -69.94695 12.436...  \n",
       "1  MULTIPOLYGON (((-61.73889 17.54055, -61.75195 ...  \n",
       "2  POLYGON ((64.03937 30.02453, 64.03937 30.11267...  \n",
       "3  POLYGON ((61.75456 30.78628, 61.75833 30.79028...  \n",
       "4  POLYGON ((61.62285 31.39536, 61.64841 31.46713...  "
      ]
     },
     "execution_count": 3,
     "metadata": {},
     "output_type": "execute_result"
    }
   ],
   "source": [
    "greg = gpd.read_file('greg')\n",
    "greg[['G1SHORTNAM', 'G2SHORTNAM', 'G3SHORTNAM', 'geometry']].head()"
   ]
  },
  {
   "cell_type": "markdown",
   "id": "71fa85e8",
   "metadata": {},
   "source": [
    "Before proceeding must check that the two shapefiles follow the same coordinate reference system, in this case, WGS84."
   ]
  },
  {
   "cell_type": "code",
   "execution_count": 4,
   "id": "972925be",
   "metadata": {},
   "outputs": [
    {
     "data": {
      "text/plain": [
       "True"
      ]
     },
     "execution_count": 4,
     "metadata": {},
     "output_type": "execute_result"
    }
   ],
   "source": [
    "virtual.crs == greg.crs"
   ]
  },
  {
   "cell_type": "markdown",
   "id": "b954a2f3",
   "metadata": {},
   "source": [
    "## Transform GREG\n",
    "\n",
    "The original GREG format is a number of regions, each of which has up to three ethnic groups attached to it. Ethnic groups may also be attached to different regions. This code chunk melts, and then dissolves, the original `greg` dataset, such that we have one entry per ethnic group."
   ]
  },
  {
   "cell_type": "code",
   "execution_count": 5,
   "id": "2572f94d",
   "metadata": {},
   "outputs": [
    {
     "data": {
      "text/html": [
       "<div>\n",
       "<style scoped>\n",
       "    .dataframe tbody tr th:only-of-type {\n",
       "        vertical-align: middle;\n",
       "    }\n",
       "\n",
       "    .dataframe tbody tr th {\n",
       "        vertical-align: top;\n",
       "    }\n",
       "\n",
       "    .dataframe thead th {\n",
       "        text-align: right;\n",
       "    }\n",
       "</style>\n",
       "<table border=\"1\" class=\"dataframe\">\n",
       "  <thead>\n",
       "    <tr style=\"text-align: right;\">\n",
       "      <th></th>\n",
       "      <th>SHORTNAM</th>\n",
       "      <th>geometry</th>\n",
       "    </tr>\n",
       "  </thead>\n",
       "  <tbody>\n",
       "    <tr>\n",
       "      <th>0</th>\n",
       "      <td>Abazinians</td>\n",
       "      <td>MULTIPOLYGON (((41.83519 44.08370, 41.86445 44...</td>\n",
       "    </tr>\n",
       "    <tr>\n",
       "      <th>1</th>\n",
       "      <td>Abkhaz</td>\n",
       "      <td>MULTIPOLYGON (((41.73878 42.62086, 41.71329 42...</td>\n",
       "    </tr>\n",
       "    <tr>\n",
       "      <th>2</th>\n",
       "      <td>Achaguas</td>\n",
       "      <td>MULTIPOLYGON (((-74.02123 2.16973, -73.98634 2...</td>\n",
       "    </tr>\n",
       "    <tr>\n",
       "      <th>3</th>\n",
       "      <td>Achang</td>\n",
       "      <td>POLYGON ((97.84312 24.33767, 97.84467 24.36087...</td>\n",
       "    </tr>\n",
       "    <tr>\n",
       "      <th>4</th>\n",
       "      <td>Achinese</td>\n",
       "      <td>MULTIPOLYGON (((97.81446 2.77691, 97.86672 2.7...</td>\n",
       "    </tr>\n",
       "    <tr>\n",
       "      <th>...</th>\n",
       "      <td>...</td>\n",
       "      <td>...</td>\n",
       "    </tr>\n",
       "    <tr>\n",
       "      <th>923</th>\n",
       "      <td>Zagawa</td>\n",
       "      <td>MULTIPOLYGON (((25.88538 14.53904, 25.83321 14...</td>\n",
       "    </tr>\n",
       "    <tr>\n",
       "      <th>924</th>\n",
       "      <td>Zakhchins</td>\n",
       "      <td>POLYGON ((91.54557 47.36713, 91.54557 47.43751...</td>\n",
       "    </tr>\n",
       "    <tr>\n",
       "      <th>925</th>\n",
       "      <td>Zapotecs</td>\n",
       "      <td>POLYGON ((-94.96082 16.37316, -95.03084 16.322...</td>\n",
       "    </tr>\n",
       "    <tr>\n",
       "      <th>926</th>\n",
       "      <td>Zoque</td>\n",
       "      <td>MULTIPOLYGON (((-93.18895 16.87464, -93.13737 ...</td>\n",
       "    </tr>\n",
       "    <tr>\n",
       "      <th>927</th>\n",
       "      <td>Zulus</td>\n",
       "      <td>POLYGON ((31.11778 -29.67945, 31.00972 -29.872...</td>\n",
       "    </tr>\n",
       "  </tbody>\n",
       "</table>\n",
       "<p>928 rows × 2 columns</p>\n",
       "</div>"
      ],
      "text/plain": [
       "       SHORTNAM                                           geometry\n",
       "0    Abazinians  MULTIPOLYGON (((41.83519 44.08370, 41.86445 44...\n",
       "1        Abkhaz  MULTIPOLYGON (((41.73878 42.62086, 41.71329 42...\n",
       "2      Achaguas  MULTIPOLYGON (((-74.02123 2.16973, -73.98634 2...\n",
       "3        Achang  POLYGON ((97.84312 24.33767, 97.84467 24.36087...\n",
       "4      Achinese  MULTIPOLYGON (((97.81446 2.77691, 97.86672 2.7...\n",
       "..          ...                                                ...\n",
       "923      Zagawa  MULTIPOLYGON (((25.88538 14.53904, 25.83321 14...\n",
       "924   Zakhchins  POLYGON ((91.54557 47.36713, 91.54557 47.43751...\n",
       "925    Zapotecs  POLYGON ((-94.96082 16.37316, -95.03084 16.322...\n",
       "926       Zoque  MULTIPOLYGON (((-93.18895 16.87464, -93.13737 ...\n",
       "927       Zulus  POLYGON ((31.11778 -29.67945, 31.00972 -29.872...\n",
       "\n",
       "[928 rows x 2 columns]"
      ]
     },
     "execution_count": 5,
     "metadata": {},
     "output_type": "execute_result"
    }
   ],
   "source": [
    "melted = pd.melt(greg, id_vars = ['geometry'], value_vars = ['G1SHORTNAM', 'G2SHORTNAM', 'G3SHORTNAM'], value_name = 'SHORTNAM')\n",
    "ethnicGroups = melted[melted['SHORTNAM'].notna()].drop('variable', axis = 1).dissolve(by = 'SHORTNAM', aggfunc = 'first', as_index = False)\n",
    "ethnicGroups"
   ]
  },
  {
   "cell_type": "markdown",
   "id": "61a89e18",
   "metadata": {},
   "source": [
    "## Perform Intersection\n",
    "\n",
    "This cell intersects the imported dataset of cells with the dataset of ethnic groups, derived from GREG."
   ]
  },
  {
   "cell_type": "code",
   "execution_count": 6,
   "id": "6306523c",
   "metadata": {},
   "outputs": [
    {
     "data": {
      "text/html": [
       "<div>\n",
       "<style scoped>\n",
       "    .dataframe tbody tr th:only-of-type {\n",
       "        vertical-align: middle;\n",
       "    }\n",
       "\n",
       "    .dataframe tbody tr th {\n",
       "        vertical-align: top;\n",
       "    }\n",
       "\n",
       "    .dataframe thead th {\n",
       "        text-align: right;\n",
       "    }\n",
       "</style>\n",
       "<table border=\"1\" class=\"dataframe\">\n",
       "  <thead>\n",
       "    <tr style=\"text-align: right;\">\n",
       "      <th></th>\n",
       "      <th>uniq_cnt25</th>\n",
       "      <th>point5_id</th>\n",
       "      <th>pop95</th>\n",
       "      <th>maize</th>\n",
       "      <th>pasture</th>\n",
       "      <th>suit_new</th>\n",
       "      <th>sorghum</th>\n",
       "      <th>allcrops</th>\n",
       "      <th>SHORTNAM</th>\n",
       "      <th>geometry</th>\n",
       "    </tr>\n",
       "  </thead>\n",
       "  <tbody>\n",
       "    <tr>\n",
       "      <th>0</th>\n",
       "      <td>211</td>\n",
       "      <td>247281.0</td>\n",
       "      <td>0.0301</td>\n",
       "      <td>0.0</td>\n",
       "      <td>0.0</td>\n",
       "      <td>0.0000</td>\n",
       "      <td>0.0</td>\n",
       "      <td>0.0</td>\n",
       "      <td>Eskimos</td>\n",
       "      <td>MULTIPOLYGON (((-19.00000 81.71801, -19.14417 ...</td>\n",
       "    </tr>\n",
       "    <tr>\n",
       "      <th>1</th>\n",
       "      <td>211</td>\n",
       "      <td>247282.0</td>\n",
       "      <td>0.0300</td>\n",
       "      <td>0.0</td>\n",
       "      <td>0.0</td>\n",
       "      <td>0.0000</td>\n",
       "      <td>0.0</td>\n",
       "      <td>0.0</td>\n",
       "      <td>Eskimos</td>\n",
       "      <td>MULTIPOLYGON (((-19.00000 81.80707, -18.99083 ...</td>\n",
       "    </tr>\n",
       "    <tr>\n",
       "      <th>2</th>\n",
       "      <td>335</td>\n",
       "      <td>241416.0</td>\n",
       "      <td>0.0271</td>\n",
       "      <td>0.0</td>\n",
       "      <td>0.0</td>\n",
       "      <td>0.0001</td>\n",
       "      <td>0.0</td>\n",
       "      <td>0.0</td>\n",
       "      <td>Eskimos</td>\n",
       "      <td>POLYGON ((-72.00000 78.00000, -71.87679 78.000...</td>\n",
       "    </tr>\n",
       "    <tr>\n",
       "      <th>3</th>\n",
       "      <td>335</td>\n",
       "      <td>242134.0</td>\n",
       "      <td>0.0195</td>\n",
       "      <td>0.0</td>\n",
       "      <td>0.0</td>\n",
       "      <td>0.0001</td>\n",
       "      <td>0.0</td>\n",
       "      <td>0.0</td>\n",
       "      <td>Eskimos</td>\n",
       "      <td>MULTIPOLYGON (((-73.00000 78.17449, -72.99834 ...</td>\n",
       "    </tr>\n",
       "    <tr>\n",
       "      <th>4</th>\n",
       "      <td>335</td>\n",
       "      <td>242135.0</td>\n",
       "      <td>0.0330</td>\n",
       "      <td>0.0</td>\n",
       "      <td>0.0</td>\n",
       "      <td>0.0001</td>\n",
       "      <td>0.0</td>\n",
       "      <td>0.0</td>\n",
       "      <td>Eskimos</td>\n",
       "      <td>POLYGON ((-72.34038 78.00000, -72.34695 78.003...</td>\n",
       "    </tr>\n",
       "  </tbody>\n",
       "</table>\n",
       "</div>"
      ],
      "text/plain": [
       "   uniq_cnt25  point5_id   pop95  maize  pasture  suit_new  sorghum  allcrops  \\\n",
       "0         211   247281.0  0.0301    0.0      0.0    0.0000      0.0       0.0   \n",
       "1         211   247282.0  0.0300    0.0      0.0    0.0000      0.0       0.0   \n",
       "2         335   241416.0  0.0271    0.0      0.0    0.0001      0.0       0.0   \n",
       "3         335   242134.0  0.0195    0.0      0.0    0.0001      0.0       0.0   \n",
       "4         335   242135.0  0.0330    0.0      0.0    0.0001      0.0       0.0   \n",
       "\n",
       "  SHORTNAM                                           geometry  \n",
       "0  Eskimos  MULTIPOLYGON (((-19.00000 81.71801, -19.14417 ...  \n",
       "1  Eskimos  MULTIPOLYGON (((-19.00000 81.80707, -18.99083 ...  \n",
       "2  Eskimos  POLYGON ((-72.00000 78.00000, -71.87679 78.000...  \n",
       "3  Eskimos  MULTIPOLYGON (((-73.00000 78.17449, -72.99834 ...  \n",
       "4  Eskimos  POLYGON ((-72.34038 78.00000, -72.34695 78.003...  "
      ]
     },
     "execution_count": 6,
     "metadata": {},
     "output_type": "execute_result"
    }
   ],
   "source": [
    "joined = gpd.overlay(virtual, ethnicGroups, how = 'intersection')\n",
    "joined.head()"
   ]
  },
  {
   "cell_type": "markdown",
   "id": "139358c0",
   "metadata": {},
   "source": [
    "## Coverage\n",
    "\n",
    "These cells reduce each virtual country to *only contain cells in which the cell is completely covered by an ethnic group from GREG*, similar to our interpretation of the procedure described in Michalopolous.\n",
    "\n",
    "First, we calculate the \"area\" of each small cell after it has been intersected with the transformed GREG dataset. Then we compare this area to the area of the full cell, and equaivalent areas indicate that the cell is completely covered."
   ]
  },
  {
   "cell_type": "code",
   "execution_count": 7,
   "id": "66f06c70",
   "metadata": {},
   "outputs": [
    {
     "name": "stderr",
     "output_type": "stream",
     "text": [
      "/opt/homebrew/lib/python3.9/site-packages/pygeos/set_operations.py:388: RuntimeWarning: divide by zero encountered in unary_union\n",
      "  result = lib.unary_union(collections, **kwargs)\n",
      "/var/folders/l7/_yl1rg512jv095gql7v0v5r00000gn/T/ipykernel_50548/310672282.py:2: UserWarning: Geometry is in a geographic CRS. Results from 'area' are likely incorrect. Use 'GeoSeries.to_crs()' to re-project geometries to a projected CRS before this operation.\n",
      "\n",
      "  areasCell = dissolved.area.to_frame().rename(columns = {0: 'overlay'})\n",
      "/var/folders/l7/_yl1rg512jv095gql7v0v5r00000gn/T/ipykernel_50548/310672282.py:3: UserWarning: Geometry is in a geographic CRS. Results from 'area' are likely incorrect. Use 'GeoSeries.to_crs()' to re-project geometries to a projected CRS before this operation.\n",
      "\n",
      "  areasCell['full'] = virtual.set_index('point5_id').area\n"
     ]
    },
    {
     "data": {
      "text/html": [
       "<div>\n",
       "<style scoped>\n",
       "    .dataframe tbody tr th:only-of-type {\n",
       "        vertical-align: middle;\n",
       "    }\n",
       "\n",
       "    .dataframe tbody tr th {\n",
       "        vertical-align: top;\n",
       "    }\n",
       "\n",
       "    .dataframe thead th {\n",
       "        text-align: right;\n",
       "    }\n",
       "</style>\n",
       "<table border=\"1\" class=\"dataframe\">\n",
       "  <thead>\n",
       "    <tr style=\"text-align: right;\">\n",
       "      <th></th>\n",
       "      <th>overlay</th>\n",
       "      <th>full</th>\n",
       "      <th>complete</th>\n",
       "    </tr>\n",
       "    <tr>\n",
       "      <th>point5_id</th>\n",
       "      <th></th>\n",
       "      <th></th>\n",
       "      <th></th>\n",
       "    </tr>\n",
       "  </thead>\n",
       "  <tbody>\n",
       "    <tr>\n",
       "      <th>49903.0</th>\n",
       "      <td>0.040962</td>\n",
       "      <td>0.25</td>\n",
       "      <td>False</td>\n",
       "    </tr>\n",
       "    <tr>\n",
       "      <th>49904.0</th>\n",
       "      <td>0.111268</td>\n",
       "      <td>0.25</td>\n",
       "      <td>False</td>\n",
       "    </tr>\n",
       "    <tr>\n",
       "      <th>49905.0</th>\n",
       "      <td>0.112302</td>\n",
       "      <td>0.25</td>\n",
       "      <td>False</td>\n",
       "    </tr>\n",
       "    <tr>\n",
       "      <th>49906.0</th>\n",
       "      <td>0.006557</td>\n",
       "      <td>0.25</td>\n",
       "      <td>False</td>\n",
       "    </tr>\n",
       "    <tr>\n",
       "      <th>50621.0</th>\n",
       "      <td>0.006873</td>\n",
       "      <td>0.25</td>\n",
       "      <td>False</td>\n",
       "    </tr>\n",
       "    <tr>\n",
       "      <th>...</th>\n",
       "      <td>...</td>\n",
       "      <td>...</td>\n",
       "      <td>...</td>\n",
       "    </tr>\n",
       "    <tr>\n",
       "      <th>242136.0</th>\n",
       "      <td>0.185729</td>\n",
       "      <td>0.25</td>\n",
       "      <td>False</td>\n",
       "    </tr>\n",
       "    <tr>\n",
       "      <th>242137.0</th>\n",
       "      <td>0.013326</td>\n",
       "      <td>0.25</td>\n",
       "      <td>False</td>\n",
       "    </tr>\n",
       "    <tr>\n",
       "      <th>242857.0</th>\n",
       "      <td>0.033278</td>\n",
       "      <td>0.25</td>\n",
       "      <td>False</td>\n",
       "    </tr>\n",
       "    <tr>\n",
       "      <th>247281.0</th>\n",
       "      <td>0.013842</td>\n",
       "      <td>0.25</td>\n",
       "      <td>False</td>\n",
       "    </tr>\n",
       "    <tr>\n",
       "      <th>247282.0</th>\n",
       "      <td>0.060065</td>\n",
       "      <td>0.25</td>\n",
       "      <td>False</td>\n",
       "    </tr>\n",
       "  </tbody>\n",
       "</table>\n",
       "<p>58073 rows × 3 columns</p>\n",
       "</div>"
      ],
      "text/plain": [
       "            overlay  full  complete\n",
       "point5_id                          \n",
       "49903.0    0.040962  0.25     False\n",
       "49904.0    0.111268  0.25     False\n",
       "49905.0    0.112302  0.25     False\n",
       "49906.0    0.006557  0.25     False\n",
       "50621.0    0.006873  0.25     False\n",
       "...             ...   ...       ...\n",
       "242136.0   0.185729  0.25     False\n",
       "242137.0   0.013326  0.25     False\n",
       "242857.0   0.033278  0.25     False\n",
       "247281.0   0.013842  0.25     False\n",
       "247282.0   0.060065  0.25     False\n",
       "\n",
       "[58073 rows x 3 columns]"
      ]
     },
     "execution_count": 7,
     "metadata": {},
     "output_type": "execute_result"
    }
   ],
   "source": [
    "dissolved = joined[['point5_id', 'geometry']].dissolve('point5_id')\n",
    "areasCell = dissolved.area.to_frame().rename(columns = {0: 'overlay'})\n",
    "areasCell['full'] = virtual.set_index('point5_id').area\n",
    "areasCell['complete'] = np.isclose(areasCell['overlay'], areasCell['full'])\n",
    "areasCell"
   ]
  },
  {
   "cell_type": "markdown",
   "id": "68945696",
   "metadata": {},
   "source": [
    "This cell merges the overlay dataset calculated earlier with the coverage dataset, to determine whether each cell-ethnic group combination is of a cell with complete coverage."
   ]
  },
  {
   "cell_type": "code",
   "execution_count": 8,
   "id": "27a760b1",
   "metadata": {},
   "outputs": [
    {
     "data": {
      "text/html": [
       "<div>\n",
       "<style scoped>\n",
       "    .dataframe tbody tr th:only-of-type {\n",
       "        vertical-align: middle;\n",
       "    }\n",
       "\n",
       "    .dataframe tbody tr th {\n",
       "        vertical-align: top;\n",
       "    }\n",
       "\n",
       "    .dataframe thead th {\n",
       "        text-align: right;\n",
       "    }\n",
       "</style>\n",
       "<table border=\"1\" class=\"dataframe\">\n",
       "  <thead>\n",
       "    <tr style=\"text-align: right;\">\n",
       "      <th></th>\n",
       "      <th>uniq_cnt25</th>\n",
       "      <th>point5_id</th>\n",
       "      <th>complete</th>\n",
       "    </tr>\n",
       "  </thead>\n",
       "  <tbody>\n",
       "    <tr>\n",
       "      <th>0</th>\n",
       "      <td>211</td>\n",
       "      <td>247281.0</td>\n",
       "      <td>False</td>\n",
       "    </tr>\n",
       "    <tr>\n",
       "      <th>1</th>\n",
       "      <td>211</td>\n",
       "      <td>247282.0</td>\n",
       "      <td>False</td>\n",
       "    </tr>\n",
       "    <tr>\n",
       "      <th>2</th>\n",
       "      <td>335</td>\n",
       "      <td>241416.0</td>\n",
       "      <td>False</td>\n",
       "    </tr>\n",
       "    <tr>\n",
       "      <th>3</th>\n",
       "      <td>335</td>\n",
       "      <td>242134.0</td>\n",
       "      <td>False</td>\n",
       "    </tr>\n",
       "    <tr>\n",
       "      <th>4</th>\n",
       "      <td>335</td>\n",
       "      <td>242135.0</td>\n",
       "      <td>False</td>\n",
       "    </tr>\n",
       "  </tbody>\n",
       "</table>\n",
       "</div>"
      ],
      "text/plain": [
       "   uniq_cnt25  point5_id  complete\n",
       "0         211   247281.0     False\n",
       "1         211   247282.0     False\n",
       "2         335   241416.0     False\n",
       "3         335   242134.0     False\n",
       "4         335   242135.0     False"
      ]
     },
     "execution_count": 8,
     "metadata": {},
     "output_type": "execute_result"
    }
   ],
   "source": [
    "joinedCoverage = joined.merge(areasCell, left_on = 'point5_id', right_index = True)\n",
    "joinedCoverage[['uniq_cnt25', 'point5_id', 'complete']].head()"
   ]
  },
  {
   "cell_type": "markdown",
   "id": "c57f4656",
   "metadata": {},
   "source": [
    "Finally, we group by the virtual country ID, and count the number of unique ethnic groups (`SHORTNAM`), along with the number of complete cells (`point5_id`)."
   ]
  },
  {
   "cell_type": "code",
   "execution_count": 9,
   "id": "b21322ae",
   "metadata": {},
   "outputs": [],
   "source": [
    "countries = joinedCoverage[joinedCoverage['complete'] == True].groupby('uniq_cnt25')[['point5_id', 'SHORTNAM']].nunique()\n",
    "countries.to_csv('greg.csv')"
   ]
  },
  {
   "cell_type": "code",
   "execution_count": 10,
   "id": "2d30d597",
   "metadata": {},
   "outputs": [
    {
     "data": {
      "text/plain": [
       "2521"
      ]
     },
     "execution_count": 10,
     "metadata": {},
     "output_type": "execute_result"
    }
   ],
   "source": [
    "len(countries)"
   ]
  },
  {
   "cell_type": "code",
   "execution_count": 11,
   "id": "218b00de",
   "metadata": {},
   "outputs": [
    {
     "data": {
      "text/plain": [
       "Text(0.5, 0, 'Number of Ethnic Groups in Virtual Country')"
      ]
     },
     "execution_count": 11,
     "metadata": {},
     "output_type": "execute_result"
    },
    {
     "data": {
      "image/png": "[encoded data removed]",
      "text/plain": [
       "<Figure size 432x288 with 1 Axes>"
      ]
     },
     "metadata": {
      "needs_background": "light"
     },
     "output_type": "display_data"
    }
   ],
   "source": [
    "ax = sns.histplot(x = countries['SHORTNAM'], bins = np.arange(0, 20))\n",
    "ax.set_xlabel('Number of Ethnic Groups in Virtual Country')"
   ]
  },
  {
   "cell_type": "code",
   "execution_count": 13,
   "id": "df2d55e7",
   "metadata": {},
   "outputs": [
    {
     "data": {
      "image/png": "[encoded data removed]",
      "text/plain": [
       "<Figure size 432x288 with 1 Axes>"
      ]
     },
     "metadata": {
      "needs_background": "light"
     },
     "output_type": "display_data"
    }
   ],
   "source": [
    "ax = sns.histplot(x = countries['point5_id'], bins = np.arange(27))\n",
    "ax.set_xlabel('Number of Complete Cells in Virtual Country');"
   ]
  },
  {
   "cell_type": "markdown",
   "id": "1464de75",
   "metadata": {},
   "source": [
    "## Comparison to WLMS\n",
    "\n",
    "When calculating number of ethnic groups per virtual country, we obtained 2521 countries with full coverage in at least one of its 25 cells. 1857 of these countries are included in the dataset derived from WLMS provided in the data download. 31 of the countries included in the data downloaded are *not* included in the 2521 countries we obtained."
   ]
  },
  {
   "cell_type": "code",
   "execution_count": 14,
   "id": "55c1a06b",
   "metadata": {},
   "outputs": [],
   "source": [
    "df = pd.read_stata('data_raw/Tables4-7b.dta')\n",
    "df['uniq_cnt25'] = df['uniq_cnt25'].astype(int)"
   ]
  },
  {
   "cell_type": "code",
   "execution_count": 15,
   "id": "ed56dde5",
   "metadata": {},
   "outputs": [
    {
     "data": {
      "text/plain": [
       "1888"
      ]
     },
     "execution_count": 15,
     "metadata": {},
     "output_type": "execute_result"
    }
   ],
   "source": [
    "len(df)"
   ]
  },
  {
   "cell_type": "code",
   "execution_count": 16,
   "id": "551e9641",
   "metadata": {},
   "outputs": [
    {
     "data": {
      "text/plain": [
       "1857"
      ]
     },
     "execution_count": 16,
     "metadata": {},
     "output_type": "execute_result"
    }
   ],
   "source": [
    "countries.index.isin(df['uniq_cnt25']).sum()"
   ]
  },
  {
   "cell_type": "code",
   "execution_count": 17,
   "id": "423b4c65",
   "metadata": {},
   "outputs": [
    {
     "data": {
      "text/plain": [
       "1857"
      ]
     },
     "execution_count": 17,
     "metadata": {},
     "output_type": "execute_result"
    }
   ],
   "source": [
    "df['uniq_cnt25'].isin(countries.index).sum()"
   ]
  }
 ],
 "metadata": {
  "kernelspec": {
   "display_name": "Python 3 (ipykernel)",
   "language": "python",
   "name": "python3"
  },
  "language_info": {
   "codemirror_mode": {
    "name": "ipython",
    "version": 3
   },
   "file_extension": ".py",
   "mimetype": "text/x-python",
   "name": "python",
   "nbconvert_exporter": "python",
   "pygments_lexer": "ipython3",
   "version": "3.9.12"
  },
  "toc": {
   "base_numbering": 1,
   "nav_menu": {},
   "number_sections": true,
   "sideBar": true,
   "skip_h1_title": false,
   "title_cell": "Table of Contents",
   "title_sidebar": "Contents",
   "toc_cell": false,
   "toc_position": {},
   "toc_section_display": true,
   "toc_window_display": false
  }
 },
 "nbformat": 4,
 "nbformat_minor": 5
}
